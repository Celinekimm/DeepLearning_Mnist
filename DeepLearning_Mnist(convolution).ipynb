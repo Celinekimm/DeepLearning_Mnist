{
  "nbformat": 4,
  "nbformat_minor": 0,
  "metadata": {
    "colab": {
      "name": "DeepLearning_Mnist(convolution).ipynb",
      "provenance": [],
      "collapsed_sections": [],
      "authorship_tag": "ABX9TyNxPgn2nKoZ+SQTZa2rTztI",
      "include_colab_link": true
    },
    "kernelspec": {
      "name": "python3",
      "display_name": "Python 3"
    },
    "language_info": {
      "name": "python"
    },
    "accelerator": "GPU"
  },
  "cells": [
    {
      "cell_type": "markdown",
      "metadata": {
        "id": "view-in-github",
        "colab_type": "text"
      },
      "source": [
        "<a href=\"https://colab.research.google.com/github/Celinekimm/DeepLearning_Mnist/blob/main/DeepLearning_Mnist(convolution).ipynb\" target=\"_parent\"><img src=\"https://colab.research.google.com/assets/colab-badge.svg\" alt=\"Open In Colab\"/></a>"
      ]
    },
    {
      "cell_type": "code",
      "execution_count": 24,
      "metadata": {
        "id": "X9EGgLJ6mqp_",
        "colab": {
          "base_uri": "https://localhost:8080/"
        },
        "outputId": "c7439ad7-2e22-448e-f133-7b5db0f0a2ff"
      },
      "outputs": [
        {
          "output_type": "stream",
          "name": "stdout",
          "text": [
            "\n",
            "Epoch 1: val_loss improved from inf to 0.05400, saving model to ./model/01-0.0540.hdf5\n",
            "\n",
            "Epoch 2: val_loss improved from 0.05400 to 0.03983, saving model to ./model/02-0.0398.hdf5\n",
            "\n",
            "Epoch 3: val_loss improved from 0.03983 to 0.03979, saving model to ./model/03-0.0398.hdf5\n",
            "\n",
            "Epoch 4: val_loss improved from 0.03979 to 0.03166, saving model to ./model/04-0.0317.hdf5\n",
            "\n",
            "Epoch 5: val_loss did not improve from 0.03166\n",
            "\n",
            "Epoch 6: val_loss improved from 0.03166 to 0.03042, saving model to ./model/06-0.0304.hdf5\n",
            "\n",
            "Epoch 7: val_loss did not improve from 0.03042\n",
            "\n",
            "Epoch 8: val_loss did not improve from 0.03042\n",
            "\n",
            "Epoch 9: val_loss did not improve from 0.03042\n",
            "\n",
            "Epoch 10: val_loss improved from 0.03042 to 0.02834, saving model to ./model/10-0.0283.hdf5\n",
            "\n",
            "Epoch 11: val_loss improved from 0.02834 to 0.02668, saving model to ./model/11-0.0267.hdf5\n",
            "\n",
            "Epoch 12: val_loss did not improve from 0.02668\n",
            "\n",
            "Epoch 13: val_loss improved from 0.02668 to 0.02622, saving model to ./model/13-0.0262.hdf5\n",
            "\n",
            "Epoch 14: val_loss did not improve from 0.02622\n",
            "\n",
            "Epoch 15: val_loss did not improve from 0.02622\n",
            "\n",
            "Epoch 16: val_loss did not improve from 0.02622\n",
            "\n",
            "Epoch 17: val_loss improved from 0.02622 to 0.02575, saving model to ./model/17-0.0257.hdf5\n",
            "\n",
            "Epoch 18: val_loss did not improve from 0.02575\n",
            "\n",
            "Epoch 19: val_loss did not improve from 0.02575\n",
            "\n",
            "Epoch 20: val_loss did not improve from 0.02575\n",
            "\n",
            "Epoch 21: val_loss did not improve from 0.02575\n",
            "\n",
            "Epoch 22: val_loss did not improve from 0.02575\n",
            "\n",
            "Epoch 23: val_loss did not improve from 0.02575\n",
            "\n",
            "Epoch 24: val_loss did not improve from 0.02575\n",
            "\n",
            "Epoch 25: val_loss did not improve from 0.02575\n",
            "\n",
            "Epoch 26: val_loss did not improve from 0.02575\n",
            "\n",
            "Epoch 27: val_loss did not improve from 0.02575\n",
            "313/313 [==============================] - 2s 5ms/step - loss: 0.0269 - accuracy: 0.9940\n",
            "\n",
            " Test Accuracy: 0.9940\n"
          ]
        }
      ],
      "source": [
        "from keras.datasets import mnist\n",
        "from keras.utils import np_utils\n",
        "from keras.models import Sequential\n",
        "from keras.layers import Dense, Dropout, Flatten, Conv2D, MaxPooling2D\n",
        "from keras.callbacks import ModelCheckpoint,EarlyStopping\n",
        "\n",
        "import matplotlib.pyplot as plt\n",
        "import numpy\n",
        "import numpy as np\n",
        "import os\n",
        "import tensorflow as tf\n",
        "\n",
        "# seed value\n",
        "seed = 0\n",
        "numpy.random.seed(seed)\n",
        "tf.compat.v1.set_random_seed(3)\n",
        "\n",
        "# MNIST dataset load\n",
        "(X_train, Y_train), (X_test, Y_test) = mnist.load_data()\n",
        "X_train = X_train.reshape(X_train.shape[0], 28, 28, 1).astype('float32') / 255\n",
        "X_test = X_test.reshape(X_test.shape[0], 28, 28, 1).astype('float32') / 255\n",
        "Y_train = np_utils.to_categorical(Y_train)\n",
        "Y_test = np_utils.to_categorical(Y_test)\n",
        "\n",
        "# Convolution layer\n",
        "model = Sequential()\n",
        "model.add(Conv2D(32, kernel_size=(3, 3), input_shape=(28, 28, 1), activation='relu'))\n",
        "model.add(Conv2D(64, (3, 3), activation='relu'))\n",
        "model.add(MaxPooling2D(pool_size=2))\n",
        "model.add(Dropout(0.25))\n",
        "model.add(Flatten())\n",
        "model.add(Dense(128,  activation='relu'))\n",
        "model.add(Dropout(0.5))\n",
        "model.add(Dense(10, activation='softmax'))\n",
        "\n",
        "model.compile(loss='categorical_crossentropy',\n",
        "              optimizer='adam',\n",
        "              metrics=['accuracy'])\n",
        "\n",
        "# model optimization\n",
        "MODEL_DIR = './model/'\n",
        "if not os.path.exists(MODEL_DIR):\n",
        "    os.mkdir(MODEL_DIR)\n",
        "\n",
        "modelpath=\"./model/{epoch:02d}-{val_loss:.4f}.hdf5\"\n",
        "checkpointer = ModelCheckpoint(filepath=modelpath, monitor='val_loss', verbose=1, save_best_only=True)\n",
        "early_stopping_callback = EarlyStopping(monitor='val_loss', patience=10)\n",
        "\n",
        "# Running the model\n",
        "history = model.fit(X_train, Y_train, validation_data=(X_test, Y_test), \n",
        "                    epochs=30, batch_size=200, verbose=0, \n",
        "                    callbacks=[early_stopping_callback, checkpointer])\n",
        "\n",
        "# Check the test accuracy\n",
        "print(\"\\n Test Accuracy: %.4f\" % (model.evaluate(X_test, Y_test)[1]))\n",
        "\n",
        "# Check the test loss\n",
        "y_vloss = history.history['val_loss']\n",
        "\n",
        "# Check the train loss\n",
        "y_loss = history.history['loss']"
      ]
    },
    {
      "cell_type": "code",
      "source": [
        "# Visualising \n",
        "x_len = numpy.arange(len(y_loss))\n",
        "plt.plot(x_len, y_vloss, marker='.', c=\"red\", label='Testset_loss')\n",
        "plt.plot(x_len, y_loss, marker='.', c=\"blue\", label='Trainset_loss')\n",
        "\n",
        "# 그래프에 그리드를 주고 레이블을 표시\n",
        "plt.legend(loc='upper right')\n",
        "plt.grid()\n",
        "plt.xlabel('epoch')\n",
        "plt.ylabel('loss')\n",
        "plt.show()"
      ],
      "metadata": {
        "id": "j9K2EXH1gg6v",
        "colab": {
          "base_uri": "https://localhost:8080/",
          "height": 279
        },
        "outputId": "d793a92f-e7d8-48b2-e990-57a03fd84347"
      },
      "execution_count": 21,
      "outputs": [
        {
          "output_type": "display_data",
          "data": {
            "text/plain": [
              "<Figure size 432x288 with 1 Axes>"
            ],
            "image/png": "[encoded data removed]"
          },
          "metadata": {
            "needs_background": "light"
          }
        }
      ]
    }
  ]
}
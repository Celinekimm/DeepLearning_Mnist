{
  "nbformat": 4,
  "nbformat_minor": 0,
  "metadata": {
    "colab": {
      "name": "DeepLearning_Mnist(4).ipynb",
      "provenance": [],
      "authorship_tag": "ABX9TyPKeaLF7LG8KM2ztfrqVYYl",
      "include_colab_link": true
    },
    "kernelspec": {
      "name": "python3",
      "display_name": "Python 3"
    },
    "language_info": {
      "name": "python"
    }
  },
  "cells": [
    {
      "cell_type": "markdown",
      "metadata": {
        "id": "view-in-github",
        "colab_type": "text"
      },
      "source": [
        "<a href=\"https://colab.research.google.com/github/Celinekimm/DeepLearning_Mnist/blob/main/DeepLearning_Mnist(4).ipynb\" target=\"_parent\"><img src=\"https://colab.research.google.com/assets/colab-badge.svg\" alt=\"Open In Colab\"/></a>"
      ]
    },
    {
      "cell_type": "code",
      "execution_count": 1,
      "metadata": {
        "id": "X9EGgLJ6mqp_"
      },
      "outputs": [],
      "source": [
        "from keras.datasets import mnist\n",
        "from keras.utils import np_utils\n",
        "from keras.models import Sequential\n",
        "from keras.layers import Dense\n",
        "from keras.callbacks import ModelCheckpoint,EarlyStopping\n",
        "\n",
        "import matplotlib.pyplot as plt\n",
        "import numpy\n",
        "import os\n",
        "import tensorflow as tf\n",
        "\n",
        "# numpy seed\n",
        "seed = 0\n",
        "numpy.random.seed(seed)\n",
        "tf.random.set_seed(3)"
      ]
    },
    {
      "cell_type": "markdown",
      "source": [
        "### Deep Learning Frame ###\n",
        "Now it's time to run data load. A total of 60,000 images for learning datasets and 10,000 for test datasets are called up and divided into X with attribute values and Y with class values."
      ],
      "metadata": {
        "id": "WKs990llm-zd"
      }
    },
    {
      "cell_type": "code",
      "source": [
        "# MNIST dataset load\n",
        "(X_train, Y_train), (X_test, Y_test) = mnist.load_data()\n",
        "\n",
        "X_train = X_train.reshape(X_train.shape[0], 784).astype('float32') / 255\n",
        "X_test = X_test.reshape(X_test.shape[0], 784).astype('float32') / 255\n",
        "\n",
        "Y_train = np_utils.to_categorical(Y_train, 10)\n",
        "Y_test = np_utils.to_categorical(Y_test, 10)"
      ],
      "metadata": {
        "id": "Hi1SZRkbm_N8"
      },
      "execution_count": 3,
      "outputs": []
    },
    {
      "cell_type": "markdown",
      "source": [
        "Now let's set the data frame to run deep learning. There are a total of 784 attributes and 10 classes. Therefore, it is possible to create a deep learning frame as below.\n",
        "The model has 784 of input_dim, 512 of hidden layers, and 10 outputs.\n",
        "ReLU is used in the hidden layer and Softmax in the output layer as an activation function.\n",
        "And for the deep learning process, we use categorical_crossentropy as an loss function and adam as an optimization function."
      ],
      "metadata": {
        "id": "B8xiIpZDnpV1"
      }
    },
    {
      "cell_type": "code",
      "source": [
        "# Model frame\n",
        "model = Sequential()\n",
        "model.add(Dense(512, input_dim=784, activation='relu'))\n",
        "model.add(Dense(10, activation='softmax'))\n",
        "\n",
        "# Model compile \n",
        "model.compile(loss='categorical_crossentropy',\n",
        "              optimizer='adam',\n",
        "              metrics=['accuracy'])"
      ],
      "metadata": {
        "id": "0CQuVh44nc6R"
      },
      "execution_count": 5,
      "outputs": []
    },
    {
      "cell_type": "markdown",
      "source": [
        "Before running the model, save the performance of the model first and set the earlystopping to stop learning automatically in the optimization stage of the model. If there is no improvement in the performance of the model more than 10 times, the learning is automatically stopped."
      ],
      "metadata": {
        "id": "iVjGjAECo9k9"
      }
    },
    {
      "cell_type": "code",
      "source": [
        "# Optimising\n",
        "MODEL_DIR = './model/'\n",
        "if not os.path.exists(MODEL_DIR):\n",
        "    os.mkdir(MODEL_DIR)\n",
        "\n",
        "modelpath=\"./model/{epoch:02d}-{val_loss:.4f}.hdf5\"\n",
        "checkpointer = ModelCheckpoint(filepath=modelpath, monitor='val_loss', verbose=1, save_best_only=True)\n",
        "early_stopping_callback = EarlyStopping(monitor='val_loss', patience=10)"
      ],
      "metadata": {
        "id": "hsU8o-nSn1cl"
      },
      "execution_count": 6,
      "outputs": []
    },
    {
      "cell_type": "markdown",
      "source": [
        "Set all 200 samples to run 30 times and then measure the performance of the final model with a testset and print it to output."
      ],
      "metadata": {
        "id": "h8QeWs3Fp9b5"
      }
    },
    {
      "cell_type": "code",
      "source": [
        "# Run model\n",
        "history = model.fit(X_train, Y_train, validation_data=(X_test, Y_test), epochs=30, batch_size=200, verbose=0, callbacks=[early_stopping_callback,checkpointer])\n",
        "\n",
        "# Test Accuracy check\n",
        "print(\"\\n Test Accuracy: %.4f\" % (model.evaluate(X_test, Y_test)[1]))"
      ],
      "metadata": {
        "colab": {
          "base_uri": "https://localhost:8080/"
        },
        "id": "2-c_AglOpyK3",
        "outputId": "6ef0bef6-dd44-4015-c36d-db152bf44482"
      },
      "execution_count": 7,
      "outputs": [
        {
          "output_type": "stream",
          "name": "stdout",
          "text": [
            "\n",
            "Epoch 1: val_loss improved from inf to 0.14919, saving model to ./model/01-0.1492.hdf5\n",
            "\n",
            "Epoch 2: val_loss improved from 0.14919 to 0.10328, saving model to ./model/02-0.1033.hdf5\n",
            "\n",
            "Epoch 3: val_loss improved from 0.10328 to 0.09054, saving model to ./model/03-0.0905.hdf5\n",
            "\n",
            "Epoch 4: val_loss improved from 0.09054 to 0.07612, saving model to ./model/04-0.0761.hdf5\n",
            "\n",
            "Epoch 5: val_loss improved from 0.07612 to 0.07565, saving model to ./model/05-0.0757.hdf5\n",
            "\n",
            "Epoch 6: val_loss improved from 0.07565 to 0.06891, saving model to ./model/06-0.0689.hdf5\n",
            "\n",
            "Epoch 7: val_loss improved from 0.06891 to 0.06604, saving model to ./model/07-0.0660.hdf5\n",
            "\n",
            "Epoch 8: val_loss improved from 0.06604 to 0.06366, saving model to ./model/08-0.0637.hdf5\n",
            "\n",
            "Epoch 9: val_loss improved from 0.06366 to 0.06364, saving model to ./model/09-0.0636.hdf5\n",
            "\n",
            "Epoch 10: val_loss did not improve from 0.06364\n",
            "\n",
            "Epoch 11: val_loss improved from 0.06364 to 0.06304, saving model to ./model/11-0.0630.hdf5\n",
            "\n",
            "Epoch 12: val_loss did not improve from 0.06304\n",
            "\n",
            "Epoch 13: val_loss improved from 0.06304 to 0.05996, saving model to ./model/13-0.0600.hdf5\n",
            "\n",
            "Epoch 14: val_loss did not improve from 0.05996\n",
            "\n",
            "Epoch 15: val_loss did not improve from 0.05996\n",
            "\n",
            "Epoch 16: val_loss did not improve from 0.05996\n",
            "\n",
            "Epoch 17: val_loss did not improve from 0.05996\n",
            "\n",
            "Epoch 18: val_loss did not improve from 0.05996\n",
            "\n",
            "Epoch 19: val_loss did not improve from 0.05996\n",
            "\n",
            "Epoch 20: val_loss did not improve from 0.05996\n",
            "\n",
            "Epoch 21: val_loss did not improve from 0.05996\n",
            "\n",
            "Epoch 22: val_loss did not improve from 0.05996\n",
            "\n",
            "Epoch 23: val_loss did not improve from 0.05996\n",
            "313/313 [==============================] - 1s 4ms/step - loss: 0.0677 - accuracy: 0.9845\n",
            "\n",
            " Test Accuracy: 0.9845\n"
          ]
        }
      ]
    },
    {
      "cell_type": "code",
      "source": [
        "# Test loss check\n",
        "y_vloss = history.history['val_loss']\n",
        "\n",
        "# Train loss check\n",
        "y_loss = history.history['loss']\n",
        "\n",
        "# Visualisation\n",
        "x_len = numpy.arange(len(y_loss))\n",
        "plt.plot(x_len, y_vloss, marker='.', c=\"red\", label='Testset_loss')\n",
        "plt.plot(x_len, y_loss, marker='.', c=\"blue\", label='Trainset_loss')\n",
        "\n",
        "# Grid & Label\n",
        "plt.legend(loc='upper right')\n",
        "# plt.axis([0, 20, 0, 0.35])\n",
        "plt.grid()\n",
        "plt.xlabel('epoch')\n",
        "plt.ylabel('loss')\n",
        "plt.show()"
      ],
      "metadata": {
        "colab": {
          "base_uri": "https://localhost:8080/",
          "height": 279
        },
        "id": "hBsjlagLqiVB",
        "outputId": "1f60146e-c6b2-4e75-d1a1-9941303788b5"
      },
      "execution_count": 8,
      "outputs": [
        {
          "output_type": "display_data",
          "data": {
            "text/plain": [
              "<Figure size 432x288 with 1 Axes>"
            ],
            "image/png": "[encoded data removed]"
          },
          "metadata": {
            "needs_background": "light"
          }
        }
      ]
    }
  ]
}